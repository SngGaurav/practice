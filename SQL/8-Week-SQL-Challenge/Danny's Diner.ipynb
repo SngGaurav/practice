{
 "cells": [
  {
   "cell_type": "markdown",
   "id": "69052a0b",
   "metadata": {},
   "source": [
    "### Case Study #1 - Danny's Diner\n",
    "\n",
    "https://8weeksqlchallenge.com/case-study-1/\n",
    "\n"
   ]
  },
  {
   "attachments": {
    "image.png": {
     "image/png": "[encoded data removed]"
    }
   },
   "cell_type": "markdown",
   "id": "a43bd585",
   "metadata": {},
   "source": [
    "<h2> Entity Relationship Diagram </h2>\n",
    "\n",
    "![image.png](attachment:image.png)\n",
    "\n",
    "<h2> Case Study Questions </h2>\n",
    "Each of the following case study questions can be answered using a single SQL statement:\n",
    "\n",
    "1. What is the total amount each customer spent at the restaurant?\n",
    "2. How many days has each customer visited the restaurant?\n",
    "3. What was the first item from the menu purchased by each customer?\n",
    "4. What is the most purchased item on the menu and how many times was it purchased by all customers?\n",
    "5. Which item was the most popular for each customer?\n",
    "6. Which item was purchased first by the customer after they became a member?\n",
    "7. Which item was purchased just before the customer became a member?\n",
    "8. What is the total items and amount spent for each member before they became a member?\n",
    "9. If each $1 spent equates to 10 points and sushi has a 2x points multiplier - how many points would each customer have?\n",
    "10. In the first week after a customer joins the program (including their join date) they earn 2x points on all items, not just sushi - how many points do customer A and B have at the end of January?"
   ]
  },
  {
   "cell_type": "code",
   "execution_count": 1,
   "id": "d3b718cc",
   "metadata": {},
   "outputs": [],
   "source": [
    "import sqlite3\n",
    "import pprint\n",
    "import pandas as pd"
   ]
  },
  {
   "cell_type": "code",
   "execution_count": 2,
   "id": "f290a9ad",
   "metadata": {},
   "outputs": [],
   "source": [
    "db = sqlite3.connect(\":memory:\")"
   ]
  },
  {
   "cell_type": "code",
   "execution_count": 3,
   "id": "66e65fcf",
   "metadata": {},
   "outputs": [],
   "source": [
    "cur = db.cursor()"
   ]
  },
  {
   "cell_type": "code",
   "execution_count": 4,
   "id": "e367f693",
   "metadata": {},
   "outputs": [],
   "source": [
    "def execute_query(query):\n",
    "    cur.execute(query)\n",
    "    desp = cur.description\n",
    "    if desp:\n",
    "        cols = [ele[0] for ele in desp if ele]\n",
    "        for row in cur:\n",
    "            pprint.pprint(dict(zip(cols, row)))"
   ]
  },
  {
   "cell_type": "code",
   "execution_count": 5,
   "id": "f715da72",
   "metadata": {},
   "outputs": [],
   "source": [
    "def execute_query_pd(query):\n",
    "    print(pd.read_sql_query(query, db))"
   ]
  },
  {
   "cell_type": "code",
   "execution_count": 6,
   "id": "87163781",
   "metadata": {},
   "outputs": [],
   "source": [
    "queries_list = [\n",
    "    \"\"\"\n",
    "      CREATE TABLE sales (\n",
    "      \"customer_id\" VARCHAR(1),\n",
    "      \"order_date\" DATE,\n",
    "      \"product_id\" INTEGER\n",
    "    );\n",
    "    \"\"\",\n",
    "\n",
    "\"\"\"INSERT INTO sales\n",
    "  (\"customer_id\", \"order_date\", \"product_id\")\n",
    "VALUES\n",
    "  ('A', '2021-01-01', '1'),\n",
    "  ('A', '2021-01-01', '2'),\n",
    "  ('A', '2021-01-07', '2'),\n",
    "  ('A', '2021-01-10', '3'),\n",
    "  ('A', '2021-01-11', '3'),\n",
    "  ('A', '2021-01-11', '3'),\n",
    "  ('B', '2021-01-01', '2'),\n",
    "  ('B', '2021-01-02', '2'),\n",
    "  ('B', '2021-01-04', '1'),\n",
    "  ('B', '2021-01-11', '1'),\n",
    "  ('B', '2021-01-16', '3'),\n",
    "  ('B', '2021-02-01', '3'),\n",
    "  ('C', '2021-01-01', '3'),\n",
    "  ('C', '2021-01-01', '3'),\n",
    "  ('C', '2021-01-07', '3');\"\"\",\n",
    " \n",
    "\n",
    "\"\"\"CREATE TABLE menu (\n",
    "  \"product_id\" INTEGER,\n",
    "  \"product_name\" VARCHAR(5),\n",
    "  \"price\" INTEGER\n",
    ");\"\"\",\n",
    "\n",
    "\"\"\"INSERT INTO menu\n",
    "  (\"product_id\", \"product_name\", \"price\")\n",
    "VALUES\n",
    "  ('1', 'sushi', '10'),\n",
    "  ('2', 'curry', '15'),\n",
    "  ('3', 'ramen', '12');\"\"\",\n",
    "  \n",
    "\n",
    "\"\"\"CREATE TABLE members (\n",
    "  \"customer_id\" VARCHAR(1),\n",
    "  \"join_date\" DATE\n",
    ");\"\"\",\n",
    "\n",
    "\"\"\"INSERT INTO members\n",
    "  (\"customer_id\", \"join_date\")\n",
    "VALUES\n",
    "  ('A', '2021-01-07'),\n",
    "  ('B', '2021-01-09');\"\"\"\n",
    "]\n",
    "\n",
    "for q in queries_list:\n",
    "    execute_query(q)"
   ]
  },
  {
   "cell_type": "code",
   "execution_count": 7,
   "id": "61e6978e",
   "metadata": {},
   "outputs": [
    {
     "name": "stdout",
     "output_type": "stream",
     "text": [
      "{'TOTAL_AMOUNT': 76, 'customer_id': 'A'}\n",
      "{'TOTAL_AMOUNT': 74, 'customer_id': 'B'}\n",
      "{'TOTAL_AMOUNT': 36, 'customer_id': 'C'}\n"
     ]
    }
   ],
   "source": [
    "# What is the total amount each customer spent at the restaurant?\n",
    "query = \"\"\"\n",
    "    SELECT CUSTOMER_ID, \n",
    "           SUM(PRICE) AS TOTAL_AMOUNT\n",
    "    FROM SALES\n",
    "    INNER JOIN MENU\n",
    "    ON SALES.PRODUCT_ID = MENU.PRODUCT_ID\n",
    "    GROUP BY CUSTOMER_ID\n",
    "\"\"\"\n",
    "execute_query(query)"
   ]
  },
  {
   "cell_type": "code",
   "execution_count": 8,
   "id": "df7230c4",
   "metadata": {},
   "outputs": [
    {
     "name": "stdout",
     "output_type": "stream",
     "text": [
      "{'VISITED': 6, 'customer_id': 'B'}\n",
      "{'VISITED': 4, 'customer_id': 'A'}\n",
      "{'VISITED': 2, 'customer_id': 'C'}\n"
     ]
    }
   ],
   "source": [
    "# How many days has each customer visited the restaurant?\n",
    "query = \"\"\"\n",
    "    SELECT CUSTOMER_ID,\n",
    "           COUNT(DISTINCT ORDER_DATE) AS VISITED\n",
    "    FROM SALES\n",
    "    GROUP BY CUSTOMER_ID\n",
    "    ORDER BY VISITED DESC\n",
    "\"\"\"\n",
    "execute_query(query)"
   ]
  },
  {
   "cell_type": "code",
   "execution_count": 9,
   "id": "cd3b89f7",
   "metadata": {},
   "outputs": [
    {
     "name": "stdout",
     "output_type": "stream",
     "text": [
      "{'CUSTOMER_ID': 'A', 'PRODUCT_NAME': 'curry'}\n",
      "{'CUSTOMER_ID': 'A', 'PRODUCT_NAME': 'sushi'}\n",
      "{'CUSTOMER_ID': 'B', 'PRODUCT_NAME': 'curry'}\n",
      "{'CUSTOMER_ID': 'C', 'PRODUCT_NAME': 'ramen'}\n"
     ]
    }
   ],
   "source": [
    "# What was the first item from the menu purchased by each customer?\n",
    "query = \"\"\"\n",
    "    WITH RANK_TBL AS (\n",
    "        SELECT CUSTOMER_ID,\n",
    "               PRODUCT_NAME,\n",
    "               RANK() OVER (PARTITION BY CUSTOMER_ID ORDER BY ORDER_DATE) AS RNK\n",
    "        FROM SALES\n",
    "        INNER JOIN MENU\n",
    "        ON SALES.PRODUCT_ID = MENU.PRODUCT_ID\n",
    "        )\n",
    "    SELECT CUSTOMER_ID, PRODUCT_NAME\n",
    "    FROM RANK_TBL\n",
    "    WHERE RNK = 1\n",
    "    GROUP BY CUSTOMER_ID, PRODUCT_NAME\n",
    "\"\"\"\n",
    "execute_query(query)"
   ]
  },
  {
   "cell_type": "code",
   "execution_count": 10,
   "id": "716ef3c2",
   "metadata": {},
   "outputs": [
    {
     "name": "stdout",
     "output_type": "stream",
     "text": [
      "{'TOTAL_PURCHASES': 8, 'product_name': 'ramen'}\n"
     ]
    }
   ],
   "source": [
    "# What is the most purchased item on the menu and how many times was it purchased by all customers?\n",
    "query =\"\"\"\n",
    "    SELECT PRODUCT_NAME,\n",
    "           COUNT(MENU.PRODUCT_ID) AS TOTAL_PURCHASES\n",
    "    FROM SALES\n",
    "    INNER JOIN MENU\n",
    "    ON SALES.PRODUCT_ID = MENU.PRODUCT_ID\n",
    "    GROUP BY PRODUCT_NAME\n",
    "    ORDER BY TOTAL_PURCHASES DESC\n",
    "    LIMIT 1\n",
    "\"\"\"\n",
    "execute_query(query)"
   ]
  },
  {
   "cell_type": "code",
   "execution_count": 11,
   "id": "5886eca3",
   "metadata": {},
   "outputs": [
    {
     "name": "stdout",
     "output_type": "stream",
     "text": [
      "{'CUSTOMER_ID': 'A', 'PRODUCT_NAME': 'ramen', 'TOTAL_PURCHASES': 3}\n",
      "{'CUSTOMER_ID': 'B', 'PRODUCT_NAME': 'sushi', 'TOTAL_PURCHASES': 2}\n",
      "{'CUSTOMER_ID': 'B', 'PRODUCT_NAME': 'ramen', 'TOTAL_PURCHASES': 2}\n",
      "{'CUSTOMER_ID': 'B', 'PRODUCT_NAME': 'curry', 'TOTAL_PURCHASES': 2}\n",
      "{'CUSTOMER_ID': 'C', 'PRODUCT_NAME': 'ramen', 'TOTAL_PURCHASES': 3}\n"
     ]
    }
   ],
   "source": [
    "# Which item was the most popular for each customer?\n",
    "query = \"\"\"\n",
    "    WITH RANK_TBL AS (\n",
    "            SELECT CUSTOMER_ID,\n",
    "                   PRODUCT_NAME,\n",
    "                   COUNT(PRODUCT_NAME)  AS TOTAL_PURCHASES,\n",
    "                   rank() over(partition by customer_id order by count(product_name) desc) as RNK\n",
    "            FROM SALES\n",
    "            INNER JOIN MENU\n",
    "            ON SALES.PRODUCT_ID = MENU.PRODUCT_ID\n",
    "            GROUP BY CUSTOMER_ID, PRODUCT_NAME\n",
    "            ORDER BY CUSTOMER_ID\n",
    "                    )\n",
    "    SELECT CUSTOMER_ID,\n",
    "           PRODUCT_NAME,\n",
    "           TOTAL_PURCHASES\n",
    "    FROM RANK_TBL\n",
    "    WHERE RNK = 1\n",
    "\"\"\"\n",
    "\n",
    "execute_query(query)"
   ]
  },
  {
   "cell_type": "code",
   "execution_count": 12,
   "id": "241c0509",
   "metadata": {},
   "outputs": [
    {
     "name": "stdout",
     "output_type": "stream",
     "text": [
      "{'CUSTOMER_ID': 'B', 'product_name': 'sushi'}\n",
      "{'CUSTOMER_ID': 'A', 'product_name': 'curry'}\n"
     ]
    }
   ],
   "source": [
    "# Which item was purchased first by the customer after they became a member?\n",
    "\n",
    "query = \"\"\"\n",
    "        WITH RANK_TBL as (\n",
    "            SELECT S.CUSTOMER_ID,\n",
    "                   S.PRODUCT_ID,\n",
    "                   rank() over(partition by s.customer_id order by order_date) as rnk\n",
    "            from sales as s\n",
    "            inner join members as m\n",
    "            on s.customer_id = m.customer_id\n",
    "            where s.order_date >= m.join_date\n",
    "        )\n",
    "        select customer_id,\n",
    "               product_name\n",
    "        from RANK_TBL as t\n",
    "        inner join menu\n",
    "        on t.product_id = menu.product_id\n",
    "        where t.rnk = 1\n",
    "    \"\"\"\n",
    "execute_query(query)"
   ]
  },
  {
   "cell_type": "code",
   "execution_count": 13,
   "id": "478c4e93",
   "metadata": {},
   "outputs": [
    {
     "name": "stdout",
     "output_type": "stream",
     "text": [
      "{'CUSTOMER_ID': 'A', 'product_name': 'sushi'}\n",
      "{'CUSTOMER_ID': 'B', 'product_name': 'sushi'}\n",
      "{'CUSTOMER_ID': 'A', 'product_name': 'curry'}\n"
     ]
    }
   ],
   "source": [
    "# Which item was purchased just before the customer became a member?\n",
    "\n",
    "query = \"\"\"\n",
    "        with RANK_TBL as (\n",
    "            select S.CUSTOMER_ID,\n",
    "                   S.PRODUCT_ID,\n",
    "                   rank() over(partition by s.customer_id order by order_date desc) as rnk\n",
    "            from sales as s\n",
    "            inner join members as m\n",
    "            on s.customer_id = m.customer_id\n",
    "            where s.order_date < m.join_date\n",
    "        )\n",
    "        select customer_id,\n",
    "               product_name\n",
    "        from RANK_TBL as t\n",
    "        inner join menu\n",
    "        on t.product_id = menu.product_id\n",
    "        where t.rnk = 1\n",
    "\"\"\"\n",
    "execute_query(query)"
   ]
  },
  {
   "cell_type": "code",
   "execution_count": 14,
   "id": "2f96311c",
   "metadata": {},
   "outputs": [
    {
     "name": "stdout",
     "output_type": "stream",
     "text": [
      "{'amount_spent': 25, 'customer_id': 'A', 'total_items': 2}\n",
      "{'amount_spent': 40, 'customer_id': 'B', 'total_items': 3}\n"
     ]
    }
   ],
   "source": [
    "# What is the total items and amount spent for each member before they became a member?\n",
    "\n",
    "query = \"\"\"\n",
    "        select s.customer_id,\n",
    "               count(product_name) as total_items,\n",
    "               sum(price) as amount_spent\n",
    "        from sales s\n",
    "        inner join menu\n",
    "        on s.product_id = menu.product_id\n",
    "        inner join members as m\n",
    "        on s.customer_id = m.customer_id\n",
    "        where s.order_date < m.join_date\n",
    "        group by s.customer_id\n",
    "\"\"\"\n",
    "execute_query(query)"
   ]
  },
  {
   "cell_type": "code",
   "execution_count": 15,
   "id": "aa680016",
   "metadata": {},
   "outputs": [
    {
     "name": "stdout",
     "output_type": "stream",
     "text": [
      "{'customer_id': 'A', 'total_points': 860}\n",
      "{'customer_id': 'B', 'total_points': 940}\n",
      "{'customer_id': 'C', 'total_points': 360}\n"
     ]
    }
   ],
   "source": [
    "# If each $1 spent equates to 10 points and sushi has a 2x points multiplier - how many points would each customer have?\n",
    "\n",
    "query = \"\"\"\n",
    "    select customer_id,\n",
    "           sum(case when product_name = 'sushi' then 2 * 10 * m.price\n",
    "                    else 10 * m.price end\n",
    "                ) as total_points\n",
    "    from sales as s\n",
    "    inner join menu as m\n",
    "    on s.product_id = m.product_id\n",
    "    group by customer_id\n",
    "\"\"\"\n",
    "execute_query(query)"
   ]
  },
  {
   "cell_type": "code",
   "execution_count": 16,
   "id": "2e8fa563",
   "metadata": {},
   "outputs": [
    {
     "name": "stdout",
     "output_type": "stream",
     "text": [
      "{'customer_id': 'A', 'total': 1370}\n",
      "{'customer_id': 'B', 'total': 820}\n"
     ]
    }
   ],
   "source": [
    "# In the first week after a customer joins the program (including their join date) they earn 2x points on all items, not just sushi - how many points do customer A and B have at the end of January?\n",
    "\n",
    "query = \"\"\"\n",
    "    select \n",
    "        s.customer_id, \n",
    "        sum(case when product_name = 'sushi' then 2*10*price\n",
    "                 when order_date between join_date and date(join_date, '+6 days') then 2*10*price\n",
    "                 else 10*price END\n",
    "              ) as total\n",
    "    from sales s\n",
    "    inner join members m\n",
    "    on s.customer_id = m.customer_id\n",
    "    inner join menu\n",
    "    on menu.product_id = s.product_id\n",
    "    where cast(strftime(\"%m\", order_date) as int) = 1\n",
    "    group by s.customer_id\n",
    "\"\"\"\n",
    "execute_query(query)"
   ]
  },
  {
   "cell_type": "code",
   "execution_count": 17,
   "id": "7478635e",
   "metadata": {},
   "outputs": [
    {
     "name": "stdout",
     "output_type": "stream",
     "text": [
      "   customer_id  order_date product_name  price member\n",
      "0            A  2021-01-01        sushi     10      N\n",
      "1            A  2021-01-01        curry     15      N\n",
      "2            A  2021-01-07        curry     15      Y\n",
      "3            A  2021-01-10        ramen     12      Y\n",
      "4            A  2021-01-11        ramen     12      Y\n",
      "5            A  2021-01-11        ramen     12      Y\n",
      "6            B  2021-01-01        curry     15      N\n",
      "7            B  2021-01-02        curry     15      N\n",
      "8            B  2021-01-04        sushi     10      N\n",
      "9            B  2021-01-11        sushi     10      Y\n",
      "10           B  2021-01-16        ramen     12      Y\n",
      "11           B  2021-02-01        ramen     12      Y\n",
      "12           C  2021-01-01        ramen     12      N\n",
      "13           C  2021-01-01        ramen     12      N\n",
      "14           C  2021-01-07        ramen     12      N\n"
     ]
    }
   ],
   "source": [
    "# Join All The Things\n",
    "\n",
    "query = \"\"\"\n",
    "SELECT SALES.customer_id,\n",
    "       SALES.order_date,\n",
    "       MENU.product_name, MENU.price,\n",
    "       CASE WHEN SALES.ORDER_DATE >= MEMBERS.JOIN_DATE THEN 'Y'\n",
    "            ELSE 'N'\n",
    "       END AS member\n",
    "FROM SALES\n",
    "INNER JOIN MENU\n",
    "ON SALES.PRODUCT_ID = MENU.PRODUCT_ID\n",
    "LEFT JOIN MEMBERS\n",
    "ON SALES.CUSTOMER_ID = MEMBERS.CUSTOMER_ID\n",
    "\n",
    "\"\"\"\n",
    "execute_query_pd(query)"
   ]
  },
  {
   "cell_type": "code",
   "execution_count": 18,
   "id": "cc4d8ca2",
   "metadata": {},
   "outputs": [
    {
     "name": "stdout",
     "output_type": "stream",
     "text": [
      "   customer_id  order_date product_name  price member  RANKING\n",
      "0            A  2021-01-01        sushi     10      N      NaN\n",
      "1            A  2021-01-01        curry     15      N      NaN\n",
      "2            A  2021-01-07        curry     15      Y      1.0\n",
      "3            A  2021-01-10        ramen     12      Y      2.0\n",
      "4            A  2021-01-11        ramen     12      Y      3.0\n",
      "5            A  2021-01-11        ramen     12      Y      3.0\n",
      "6            B  2021-01-01        curry     15      N      NaN\n",
      "7            B  2021-01-02        curry     15      N      NaN\n",
      "8            B  2021-01-04        sushi     10      N      NaN\n",
      "9            B  2021-01-11        sushi     10      Y      1.0\n",
      "10           B  2021-01-16        ramen     12      Y      2.0\n",
      "11           B  2021-02-01        ramen     12      Y      3.0\n",
      "12           C  2021-01-01        ramen     12      N      NaN\n",
      "13           C  2021-01-01        ramen     12      N      NaN\n",
      "14           C  2021-01-07        ramen     12      N      NaN\n"
     ]
    }
   ],
   "source": [
    "# Rank All The Things\n",
    "\n",
    "query = \"\"\"\n",
    "    WITH TBL AS (\n",
    "        SELECT SALES.customer_id,\n",
    "               SALES.order_date,\n",
    "               MENU.product_name, MENU.price,\n",
    "               CASE WHEN SALES.ORDER_DATE >= MEMBERS.JOIN_DATE THEN 'Y'\n",
    "                    ELSE 'N'\n",
    "               END AS member\n",
    "        FROM SALES\n",
    "        INNER JOIN MENU\n",
    "        ON SALES.PRODUCT_ID = MENU.PRODUCT_ID\n",
    "        LEFT JOIN MEMBERS\n",
    "        ON SALES.CUSTOMER_ID = MEMBERS.CUSTOMER_ID\n",
    "        )\n",
    "    SELECT *,\n",
    "           CASE WHEN MEMBER = 'Y' THEN DENSE_RANK() OVER(PARTITION BY CUSTOMER_ID, MEMBER ORDER BY ORDER_DATE)\n",
    "                ELSE NULL\n",
    "            END AS RANKING\n",
    "    FROM TBL\n",
    "\"\"\"\n",
    "execute_query_pd(query)"
   ]
  },
  {
   "cell_type": "code",
   "execution_count": null,
   "id": "eadddfcd",
   "metadata": {},
   "outputs": [],
   "source": []
  }
 ],
 "metadata": {
  "kernelspec": {
   "display_name": "Python 3 (ipykernel)",
   "language": "python",
   "name": "python3"
  },
  "language_info": {
   "codemirror_mode": {
    "name": "ipython",
    "version": 3
   },
   "file_extension": ".py",
   "mimetype": "text/x-python",
   "name": "python",
   "nbconvert_exporter": "python",
   "pygments_lexer": "ipython3",
   "version": "3.9.7"
  }
 },
 "nbformat": 4,
 "nbformat_minor": 5
}
